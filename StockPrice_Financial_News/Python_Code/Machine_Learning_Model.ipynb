{
  "nbformat": 4,
  "nbformat_minor": 0,
  "metadata": {
    "colab": {
      "provenance": []
    },
    "kernelspec": {
      "name": "python3",
      "display_name": "Python 3"
    },
    "language_info": {
      "name": "python"
    }
  },
  "cells": [
    {
      "cell_type": "code",
      "execution_count": 84,
      "metadata": {
        "colab": {
          "base_uri": "https://localhost:8080/"
        },
        "id": "kW7h47qmpp_9",
        "outputId": "8a55db12-2707-46a6-bfbd-9304be77f3d6"
      },
      "outputs": [
        {
          "output_type": "stream",
          "name": "stdout",
          "text": [
            "Accuracy: 55.62%\n",
            "Precision: 56.35%\n",
            "Recall: 42.37%\n",
            "F1 Score: 48.37%\n"
          ]
        }
      ],
      "source": [
        "import pandas as pd\n",
        "from sklearn.model_selection import train_test_split\n",
        "from sklearn.naive_bayes import BernoulliNB\n",
        "from sklearn.linear_model import LogisticRegression\n",
        "from sklearn.preprocessing import StandardScaler\n",
        "from sklearn.metrics import accuracy_score, precision_score, recall_score, f1_score, confusion_matrix\n",
        "\n",
        "# Load data from CSV file\n",
        "file_path = '/content/drive/MyDrive/data_with_predictions.csv'\n",
        "df = pd.read_csv(file_path)\n",
        "\n",
        "# Remove rows where any column has NaN values\n",
        "df = df.dropna()\n",
        "\n",
        "# Define features and target for Gaussian Naive Bayes\n",
        "X =df[['Open ','Shares Traded ', 'Turnover']]\n",
        "y = df['Prize Action']\n",
        "\n",
        "# Scale the features for Gaussian Naive Bayes\n",
        "scaler = StandardScaler()\n",
        "X_scaled = scaler.fit_transform(X)\n",
        "\n",
        "# Split data into training and testing sets for Gaussian Naive Bayes\n",
        "X_train_nb, X_test_nb, y_train_nb, y_test_nb = train_test_split(X_scaled, y, test_size=0.2, random_state=42)\n",
        "\n",
        "# Initialize Gaussian Naive Bayes classifier\n",
        "clf_nb = BernoulliNB()\n",
        "\n",
        "# Fit the Gaussian Naive Bayes model\n",
        "clf_nb.fit(X_train_nb, y_train_nb)\n",
        "y_pred_nb=clf_nb.predict(X_test_nb)\n",
        "# Predict probabilities on the test set\n",
        "y_pred_prob_nb = clf_nb.predict_proba(X_test_nb)[:, 1]  # Probability of the positive class\n",
        "accuracy = accuracy_score(y_test_nb, y_pred_nb)\n",
        "precision = precision_score(y_test_nb, y_pred_nb)\n",
        "recall = recall_score(y_test_nb, y_pred_nb)\n",
        "f1= f1_score(y_test_nb, y_pred_nb)\n",
        "# conf_matrix_rf = confusion_matrix(y_test_rf, y_pred_rf)\n",
        "\n",
        "# Print evaluation metrics\n",
        "print(f\"Accuracy: {accuracy * 100:.2f}%\")\n",
        "print(f\"Precision: {precision * 100:.2f}%\")\n",
        "print(f\"Recall: {recall * 100:.2f}%\")\n",
        "print(f\"F1 Score: {f1 * 100:.2f}%\")\n",
        "# print(f\"Confusion Matrix:\\n{conf_matrix}\")"
      ]
    },
    {
      "cell_type": "code",
      "source": [
        "print(len(X_test_nb))"
      ],
      "metadata": {
        "colab": {
          "base_uri": "https://localhost:8080/"
        },
        "id": "5S6cgPUDvoeZ",
        "outputId": "1ac30f88-a600-4f19-f8f3-d25023ebac21"
      },
      "execution_count": 85,
      "outputs": [
        {
          "output_type": "stream",
          "name": "stdout",
          "text": [
            "5464\n"
          ]
        }
      ]
    },
    {
      "cell_type": "code",
      "source": [
        "X_lr = pd.DataFrame({\n",
        "    'GNB_Prob': y_pred_nb,\n",
        "    'Sentiment': X_test_nb[:, -1]\n",
        "})\n",
        "\n",
        "# Split data into training and testing sets for Logistic Regression\n",
        "X_train_lr, X_test_lr, y_train_lr, y_test_lr = train_test_split(X_lr, y_test_nb, test_size=0.2, random_state=42)\n",
        "\n",
        "# Initialize Logistic Regression classifier\n",
        "clf_lr = LogisticRegression()\n",
        "\n",
        "# Fit the Logistic Regression model\n",
        "clf_lr.fit(X_train_lr, y_train_lr)\n",
        "\n",
        "# Predict on the test set\n",
        "y_pred_lr = clf_lr.predict(X_test_lr)\n",
        "\n",
        "# Evaluate the Logistic Regression model\n",
        "accuracy_lr = accuracy_score(y_test_lr, y_pred_lr)\n",
        "precision_lr = precision_score(y_test_lr, y_pred_lr)\n",
        "recall_lr = recall_score(y_test_lr, y_pred_lr)\n",
        "f1_lr = f1_score(y_test_lr, y_pred_lr)\n",
        "conf_matrix_lr = confusion_matrix(y_test_lr, y_pred_lr)\n",
        "\n",
        "# Print evaluation metrics\n",
        "print(\"Logistic Regression Classifier Metrics:\")\n",
        "print(f\"Accuracy: {accuracy_lr * 100:.2f}%\")\n",
        "print(f\"Precision: {precision_lr * 100:.2f}%\")\n",
        "print(f\"Recall: {recall_lr * 100:.2f}%\")\n",
        "print(f\"F1 Score: {f1_lr * 100:.2f}%\")\n",
        "print(f\"Confusion Matrix:\\n{conf_matrix_lr}\")"
      ],
      "metadata": {
        "colab": {
          "base_uri": "https://localhost:8080/"
        },
        "id": "oAU_UfFBsqeY",
        "outputId": "916c5b3a-d63e-4fc4-cdb6-ba0f0f02df6e"
      },
      "execution_count": 87,
      "outputs": [
        {
          "output_type": "stream",
          "name": "stdout",
          "text": [
            "Logistic Regression Classifier Metrics:\n",
            "Accuracy: 56.08%\n",
            "Precision: 55.13%\n",
            "Recall: 41.35%\n",
            "F1 Score: 47.25%\n",
            "Confusion Matrix:\n",
            "[[398 175]\n",
            " [305 215]]\n"
          ]
        }
      ]
    },
    {
      "cell_type": "code",
      "source": [
        "\n",
        "# Add predicted probabilities and 'Sentiment' as features for Logistic Regression\n",
        "X_lr = pd.DataFrame({\n",
        "    'RF_Prob': y_pred_prob_rf,\n",
        "    'Sentiment':  X_test_rf[:, -1]\n",
        "})\n",
        "\n",
        "# Split data into training and testing sets for Logistic Regression\n",
        "X_train_lr, X_test_lr, y_train_lr, y_test_lr = train_test_split(X_lr, y_test_rf, test_size=0.2, random_state=42)\n",
        "\n",
        "# Initialize Logistic Regression classifier\n",
        "clf_lr = LogisticRegression()\n",
        "\n",
        "# Fit the Logistic Regression model\n",
        "clf_lr.fit(X_train_lr, y_train_lr)\n",
        "\n",
        "# Predict on the test set\n",
        "y_pred_lr = clf_lr.predict(X_test_lr)\n",
        "\n",
        "# Evaluate the model\n",
        "accuracy_lr = accuracy_score(y_test_lr, y_pred_lr)\n",
        "precision_lr = precision_score(y_test_lr, y_pred_lr)\n",
        "recall_lr = recall_score(y_test_lr, y_pred_lr)\n",
        "f1_lr = f1_score(y_test_lr, y_pred_lr)\n",
        "conf_matrix_lr = confusion_matrix(y_test_lr, y_pred_lr)\n",
        "\n",
        "# Print evaluation metrics\n",
        "print(\"Logistic Regression Classifier Metrics:\")\n",
        "print(f\"Accuracy: {accuracy_lr * 100:.2f}%\")\n",
        "print(f\"Precision: {precision_lr * 100:.2f}%\")\n",
        "print(f\"Recall: {recall_lr * 100:.2f}%\")\n",
        "print(f\"F1 Score: {f1_lr * 100:.2f}%\")\n",
        "print(f\"Confusion Matrix:\\n{conf_matrix_lr}\")"
      ],
      "metadata": {
        "colab": {
          "base_uri": "https://localhost:8080/"
        },
        "id": "54_4paB4reqF",
        "outputId": "29272597-71e0-4ef0-aeeb-4fb7253f0d4d"
      },
      "execution_count": 88,
      "outputs": [
        {
          "output_type": "stream",
          "name": "stdout",
          "text": [
            "Logistic Regression Classifier Metrics:\n",
            "Accuracy: 59.19%\n",
            "Precision: 54.37%\n",
            "Recall: 88.46%\n",
            "F1 Score: 67.35%\n",
            "Confusion Matrix:\n",
            "[[187 386]\n",
            " [ 60 460]]\n"
          ]
        }
      ]
    },
    {
      "cell_type": "code",
      "source": [],
      "metadata": {
        "id": "hAn1oHR3t6Lg"
      },
      "execution_count": null,
      "outputs": []
    }
  ]
}